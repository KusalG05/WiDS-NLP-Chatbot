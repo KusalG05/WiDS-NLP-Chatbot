{
  "cells": [
    {
      "cell_type": "markdown",
      "metadata": {
        "id": "BqfgH7c2_R8w"
      },
      "source": [
        "# Conversational Chatbot"
      ]
    },
    {
      "cell_type": "markdown",
      "metadata": {
        "id": "1qkd_CmY_nMI"
      },
      "source": [
        "**Following below is the entire code for a basic chatbot model. Some code has been removed after execution. Your job is to complete the code so that it gives the corresponsing suitable output.**\n",
        "\n",
        "Install any dependencies and libraries as required. Most of them work with a simple 'pip install' in the terminal window.\n",
        "\n",
        "Remember to go through the intense.json file carefully to understand its components well.\n",
        "\n",
        "If you are using Colab, then no dependencies need to be downloaded."
      ]
    },
    {
      "cell_type": "code",
      "execution_count": 3,
      "metadata": {
        "id": "i_4p2vN3LEPv"
      },
      "outputs": [],
      "source": [
        "# Import the required modules\n",
        "# Nothing to be added or changed here.\n",
        "\n",
        "import random\n",
        "import json\n",
        "import pickle\n",
        "import numpy as np\n",
        "import nltk\n",
        "import tensorflow as tf"
      ]
    },
    {
      "cell_type": "markdown",
      "metadata": {
        "id": "FK0GKkKtAIfK"
      },
      "source": [
        "# NLTK\n",
        "\n",
        "For this chatbot, we employ the Natural Language ToolKit (NLTK). NLTK is a suite of libraries and programs for symbolic and statistical natural language processing for English. It is very commonly used to process English words and work with human language data. It helps us to break down and process the input text and resolve it suitably into the desired output."
      ]
    },
    {
      "cell_type": "code",
      "execution_count": 4,
      "metadata": {
        "colab": {
          "base_uri": "https://localhost:8080/"
        },
        "id": "uApRx3MP7Xb7",
        "outputId": "6af39281-ce3d-4422-aa27-a0c57845e794"
      },
      "outputs": [],
      "source": [
        "# ONLY IF YOU ARE USING COLAB. Upload intense.json to your drive and mount the drive to access it\n",
        "# Nothing to be added or changed here.\n",
        "\n",
        "# from google.colab import drive\n",
        "# drive.mount('/content/my-drive')"
      ]
    },
    {
      "cell_type": "markdown",
      "metadata": {
        "id": "JJa2FRV78eQh"
      },
      "source": [
        "## Now begins the code to train our language model"
      ]
    },
    {
      "cell_type": "code",
      "execution_count": 5,
      "metadata": {
        "id": "vX9VzCYa8XYZ"
      },
      "outputs": [],
      "source": [
        "# Import the required modules\n",
        "# Nothing to be added or changed here.\n",
        "\n",
        "from keras.models import Sequential\n",
        "from nltk.stem import WordNetLemmatizer\n",
        "from keras.layers import Dense, Activation, Dropout\n",
        "from keras.optimizers import gradient_descent_v2"
      ]
    },
    {
      "cell_type": "code",
      "execution_count": 6,
      "metadata": {
        "colab": {
          "base_uri": "https://localhost:8080/"
        },
        "id": "pnvJMO6FHZyE",
        "outputId": "3d8b64d0-b13a-4ea0-fe26-4d33006569c6"
      },
      "outputs": [
        {
          "name": "stderr",
          "output_type": "stream",
          "text": [
            "[nltk_data] Downloading package punkt to\n",
            "[nltk_data]     C:\\Users\\Krishna\\AppData\\Roaming\\nltk_data...\n",
            "[nltk_data]   Package punkt is already up-to-date!\n"
          ]
        },
        {
          "data": {
            "text/plain": [
              "True"
            ]
          },
          "execution_count": 6,
          "metadata": {},
          "output_type": "execute_result"
        }
      ],
      "source": [
        "nltk.download('punkt')"
      ]
    },
    {
      "cell_type": "code",
      "execution_count": 7,
      "metadata": {
        "id": "zZ1-xNeS4szo"
      },
      "outputs": [],
      "source": [
        "# Create a lemmatizer. This later helps in processing the input text. \n",
        "# Nothing to be added or changed here.\n",
        "\n",
        "lemmatizer = WordNetLemmatizer()"
      ]
    },
    {
      "cell_type": "code",
      "execution_count": 8,
      "metadata": {
        "id": "fPna404R8ow-"
      },
      "outputs": [],
      "source": [
        "# Read the json.intense file\n",
        "# Nothing to be added or changed here.\n",
        "\n",
        "intents = json.loads(open(\"./intense.json\").read())"
      ]
    },
    {
      "cell_type": "code",
      "execution_count": 9,
      "metadata": {
        "id": "3l9W6c-g83QJ"
      },
      "outputs": [],
      "source": [
        "# Creating empty lists to store data\n",
        "# Nothing to be added or changed here.\n",
        "\n",
        "words = []\n",
        "classes = []\n",
        "documents = []\n",
        "ignore_letters = [\"?\", \"!\", \".\", \",\"]\n",
        "for intent in intents['intents']:\n",
        "    for pattern in intent['patterns']:\n",
        "        # separating words from patterns\n",
        "        word_list = nltk.word_tokenize(pattern)\n",
        "        words.extend(word_list)  # and adding them to words list\n",
        "          \n",
        "        # associating patterns with respective tags\n",
        "        documents.append(((word_list), intent['tag']))\n",
        "  \n",
        "        # appending the tags to the class list\n",
        "        if intent['tag'] not in classes:\n",
        "            classes.append(intent['tag'])"
      ]
    },
    {
      "cell_type": "code",
      "execution_count": 10,
      "metadata": {
        "colab": {
          "base_uri": "https://localhost:8080/"
        },
        "id": "6fSQ7F8eHiel",
        "outputId": "fbe8a785-dbe1-4b4e-e240-289877ade89b"
      },
      "outputs": [
        {
          "name": "stderr",
          "output_type": "stream",
          "text": [
            "[nltk_data] Downloading package wordnet to\n",
            "[nltk_data]     C:\\Users\\Krishna\\AppData\\Roaming\\nltk_data...\n",
            "[nltk_data]   Package wordnet is already up-to-date!\n",
            "[nltk_data] Downloading package omw-1.4 to\n",
            "[nltk_data]     C:\\Users\\Krishna\\AppData\\Roaming\\nltk_data...\n",
            "[nltk_data]   Package omw-1.4 is already up-to-date!\n"
          ]
        },
        {
          "data": {
            "text/plain": [
              "True"
            ]
          },
          "execution_count": 10,
          "metadata": {},
          "output_type": "execute_result"
        }
      ],
      "source": [
        "nltk.download('wordnet')\n",
        "nltk.download('omw-1.4')"
      ]
    },
    {
      "cell_type": "code",
      "execution_count": 11,
      "metadata": {
        "id": "JLuk8vuN84nY"
      },
      "outputs": [],
      "source": [
        "# Store the root words or lemma using the lemmatizer\n",
        "# Nothing to be added or changed here.\n",
        "\n",
        "words = [lemmatizer.lemmatize(word)\n",
        "         for word in words if word not in ignore_letters]\n",
        "words = sorted(set(words))"
      ]
    },
    {
      "cell_type": "code",
      "execution_count": 12,
      "metadata": {
        "id": "Q1yFVBVs87I9"
      },
      "outputs": [],
      "source": [
        "# Save the words and classes list to binary files\n",
        "# Nothing to be added or changed here.\n",
        "\n",
        "pickle.dump(words, open('words.pkl', 'wb'))\n",
        "pickle.dump(classes, open('classes.pkl', 'wb'))"
      ]
    },
    {
      "cell_type": "markdown",
      "metadata": {
        "id": "SibDOlo3B4wu"
      },
      "source": [
        "Now, we convert the text into numerical form to make it readible to the neural network that will be created"
      ]
    },
    {
      "cell_type": "code",
      "execution_count": 13,
      "metadata": {
        "colab": {
          "base_uri": "https://localhost:8080/"
        },
        "id": "JboFyPDV89QD",
        "outputId": "1f0c2ea3-adad-4952-bc5c-3317dc31b881"
      },
      "outputs": [
        {
          "name": "stderr",
          "output_type": "stream",
          "text": [
            "C:\\Users\\Krishna\\AppData\\Local\\Temp\\ipykernel_16992\\2258295257.py:18: VisibleDeprecationWarning: Creating an ndarray from ragged nested sequences (which is a list-or-tuple of lists-or-tuples-or ndarrays with different lengths or shapes) is deprecated. If you meant to do this, you must specify 'dtype=object' when creating the ndarray.\n",
            "  training = np.array(training)\n"
          ]
        }
      ],
      "source": [
        "# No changes here\n",
        "\n",
        "training = []\n",
        "output_empty = [0]*len(classes)\n",
        "for document in documents:\n",
        "    bag = [] # Recall Bag of Words!\n",
        "    word_patterns = document[0]\n",
        "    word_patterns = [lemmatizer.lemmatize(\n",
        "        word.lower()) for word in word_patterns]\n",
        "    for word in words:\n",
        "        bag.append(1) if word in word_patterns else bag.append(0)\n",
        "          \n",
        "    # Make a copy of the output_empty\n",
        "    output_row = list(output_empty)\n",
        "    output_row[classes.index(document[1])] = 1\n",
        "    training.append([bag, output_row])\n",
        "random.shuffle(training)\n",
        "training = np.array(training)"
      ]
    },
    {
      "cell_type": "markdown",
      "metadata": {
        "id": "fAd_5qiLCOXT"
      },
      "source": [
        "# Now is where the real training code starts!"
      ]
    },
    {
      "cell_type": "code",
      "execution_count": 14,
      "metadata": {
        "id": "hzvkTPzi9BmV"
      },
      "outputs": [
        {
          "name": "stdout",
          "output_type": "stream",
          "text": [
            "33\n"
          ]
        }
      ],
      "source": [
        "# Split the data into train_x and train_y\n",
        "# your code here\n",
        "# print(training.shape)\n",
        "train_x = [x for x, y in training]\n",
        "train_y = [y for x, y in training]\n",
        "print(len(train_x[15]))"
      ]
    },
    {
      "cell_type": "code",
      "execution_count": 15,
      "metadata": {
        "id": "s7h7zx9h9EQI"
      },
      "outputs": [],
      "source": [
        "# Create a Neural network using a Sequential layer, followed by a few alternating dense and dropout layers. \n",
        "# Use activation function 'relu' and a dropout of 0.5. For the last dense layer, use 'softmax' activation function\n",
        "# your code here\n",
        "model = Sequential()\n",
        "model.add(Dense(64, input_shape=(17,33), activation='relu'))\n",
        "model.add(Dropout(0.5))\n",
        "model.add(Dense(32, activation='relu'))\n",
        "model.add(Dropout(0.5))\n",
        "model.add(Dense(3, activation='softmax'))"
      ]
    },
    {
      "cell_type": "code",
      "execution_count": 16,
      "metadata": {
        "colab": {
          "base_uri": "https://localhost:8080/"
        },
        "id": "_uBqf5rW9Gzi",
        "outputId": "6e5b596c-458d-4d86-d6ee-5b426325283e"
      },
      "outputs": [
        {
          "name": "stdout",
          "output_type": "stream",
          "text": [
            "Epoch 1/200\n",
            "WARNING:tensorflow:Model was constructed with shape (None, 17, 33) for input KerasTensor(type_spec=TensorSpec(shape=(None, 17, 33), dtype=tf.float32, name='dense_input'), name='dense_input', description=\"created by layer 'dense_input'\"), but it was called on an input with incompatible shape (None, 33).\n"
          ]
        },
        {
          "name": "stderr",
          "output_type": "stream",
          "text": [
            "c:\\Users\\Krishna\\anaconda3\\envs\\tf-gpu\\lib\\site-packages\\keras\\optimizer_v2\\optimizer_v2.py:355: UserWarning: The `lr` argument is deprecated, use `learning_rate` instead.\n",
            "  warnings.warn(\n"
          ]
        },
        {
          "name": "stdout",
          "output_type": "stream",
          "text": [
            "WARNING:tensorflow:Model was constructed with shape (None, 17, 33) for input KerasTensor(type_spec=TensorSpec(shape=(None, 17, 33), dtype=tf.float32, name='dense_input'), name='dense_input', description=\"created by layer 'dense_input'\"), but it was called on an input with incompatible shape (None, 33).\n",
            "4/4 [==============================] - 0s 1ms/step - loss: 1.2116 - accuracy: 0.2353\n",
            "Epoch 2/200\n",
            "4/4 [==============================] - 0s 1ms/step - loss: 1.1337 - accuracy: 0.2941\n",
            "Epoch 3/200\n",
            "4/4 [==============================] - 0s 1ms/step - loss: 1.1271 - accuracy: 0.2353\n",
            "Epoch 4/200\n",
            "4/4 [==============================] - 0s 1ms/step - loss: 1.1321 - accuracy: 0.3529\n",
            "Epoch 5/200\n",
            "4/4 [==============================] - 0s 1ms/step - loss: 1.0312 - accuracy: 0.5882\n",
            "Epoch 6/200\n",
            "4/4 [==============================] - 0s 1ms/step - loss: 1.0804 - accuracy: 0.3529\n",
            "Epoch 7/200\n",
            "4/4 [==============================] - 0s 1ms/step - loss: 1.0681 - accuracy: 0.4706\n",
            "Epoch 8/200\n",
            "4/4 [==============================] - 0s 2ms/step - loss: 0.9599 - accuracy: 0.7059\n",
            "Epoch 9/200\n",
            "4/4 [==============================] - 0s 1ms/step - loss: 0.9931 - accuracy: 0.5882\n",
            "Epoch 10/200\n",
            "4/4 [==============================] - 0s 1ms/step - loss: 1.0846 - accuracy: 0.4706\n",
            "Epoch 11/200\n",
            "4/4 [==============================] - 0s 1ms/step - loss: 1.1487 - accuracy: 0.4706\n",
            "Epoch 12/200\n",
            "4/4 [==============================] - 0s 1ms/step - loss: 0.9370 - accuracy: 0.7059\n",
            "Epoch 13/200\n",
            "4/4 [==============================] - 0s 1ms/step - loss: 0.9832 - accuracy: 0.6471\n",
            "Epoch 14/200\n",
            "4/4 [==============================] - 0s 1ms/step - loss: 0.9680 - accuracy: 0.5882\n",
            "Epoch 15/200\n",
            "4/4 [==============================] - 0s 1ms/step - loss: 0.9010 - accuracy: 0.5882\n",
            "Epoch 16/200\n",
            "4/4 [==============================] - 0s 1ms/step - loss: 0.9331 - accuracy: 0.6471\n",
            "Epoch 17/200\n",
            "4/4 [==============================] - 0s 2ms/step - loss: 0.9161 - accuracy: 0.5882\n",
            "Epoch 18/200\n",
            "4/4 [==============================] - 0s 999us/step - loss: 0.9782 - accuracy: 0.5294\n",
            "Epoch 19/200\n",
            "4/4 [==============================] - 0s 2ms/step - loss: 0.8349 - accuracy: 0.6471\n",
            "Epoch 20/200\n",
            "4/4 [==============================] - 0s 934us/step - loss: 0.7496 - accuracy: 0.7647\n",
            "Epoch 21/200\n",
            "4/4 [==============================] - 0s 2ms/step - loss: 0.8811 - accuracy: 0.7059\n",
            "Epoch 22/200\n",
            "4/4 [==============================] - 0s 999us/step - loss: 0.8932 - accuracy: 0.5882\n",
            "Epoch 23/200\n",
            "4/4 [==============================] - 0s 2ms/step - loss: 0.7375 - accuracy: 0.7059\n",
            "Epoch 24/200\n",
            "4/4 [==============================] - 0s 1ms/step - loss: 0.7473 - accuracy: 0.7059\n",
            "Epoch 25/200\n",
            "4/4 [==============================] - 0s 3ms/step - loss: 0.7440 - accuracy: 0.7647\n",
            "Epoch 26/200\n",
            "4/4 [==============================] - 0s 1ms/step - loss: 0.7022 - accuracy: 0.7059\n",
            "Epoch 27/200\n",
            "4/4 [==============================] - 0s 983us/step - loss: 0.7404 - accuracy: 0.7059\n",
            "Epoch 28/200\n",
            "4/4 [==============================] - 0s 1ms/step - loss: 0.6408 - accuracy: 0.6471\n",
            "Epoch 29/200\n",
            "4/4 [==============================] - 0s 1ms/step - loss: 0.8218 - accuracy: 0.6471\n",
            "Epoch 30/200\n",
            "4/4 [==============================] - 0s 1ms/step - loss: 0.6275 - accuracy: 0.7647\n",
            "Epoch 31/200\n",
            "4/4 [==============================] - 0s 1ms/step - loss: 0.6242 - accuracy: 0.7059\n",
            "Epoch 32/200\n",
            "4/4 [==============================] - 0s 1ms/step - loss: 0.6759 - accuracy: 0.7059\n",
            "Epoch 33/200\n",
            "4/4 [==============================] - 0s 1ms/step - loss: 0.5420 - accuracy: 0.8235\n",
            "Epoch 34/200\n",
            "4/4 [==============================] - 0s 1ms/step - loss: 0.5775 - accuracy: 0.7647\n",
            "Epoch 35/200\n",
            "4/4 [==============================] - 0s 788us/step - loss: 0.4560 - accuracy: 0.8235\n",
            "Epoch 36/200\n",
            "4/4 [==============================] - 0s 2ms/step - loss: 0.6286 - accuracy: 0.7059\n",
            "Epoch 37/200\n",
            "4/4 [==============================] - 0s 1ms/step - loss: 0.6293 - accuracy: 0.8235\n",
            "Epoch 38/200\n",
            "4/4 [==============================] - 0s 3ms/step - loss: 0.3693 - accuracy: 1.0000\n",
            "Epoch 39/200\n",
            "4/4 [==============================] - 0s 1ms/step - loss: 0.3869 - accuracy: 0.9412\n",
            "Epoch 40/200\n",
            "4/4 [==============================] - 0s 1ms/step - loss: 0.3558 - accuracy: 0.9412\n",
            "Epoch 41/200\n",
            "4/4 [==============================] - 0s 1ms/step - loss: 0.6869 - accuracy: 0.7647\n",
            "Epoch 42/200\n",
            "4/4 [==============================] - 0s 1ms/step - loss: 0.4083 - accuracy: 0.8824\n",
            "Epoch 43/200\n",
            "4/4 [==============================] - 0s 1ms/step - loss: 0.5115 - accuracy: 0.8824\n",
            "Epoch 44/200\n",
            "4/4 [==============================] - 0s 1ms/step - loss: 0.3057 - accuracy: 0.8824\n",
            "Epoch 45/200\n",
            "4/4 [==============================] - 0s 2ms/step - loss: 0.3627 - accuracy: 0.8824\n",
            "Epoch 46/200\n",
            "4/4 [==============================] - 0s 1ms/step - loss: 0.4296 - accuracy: 0.8824\n",
            "Epoch 47/200\n",
            "4/4 [==============================] - 0s 1000us/step - loss: 0.6038 - accuracy: 0.8235\n",
            "Epoch 48/200\n",
            "4/4 [==============================] - 0s 2ms/step - loss: 0.5166 - accuracy: 0.7647\n",
            "Epoch 49/200\n",
            "4/4 [==============================] - 0s 1ms/step - loss: 0.3330 - accuracy: 0.8824\n",
            "Epoch 50/200\n",
            "4/4 [==============================] - 0s 3ms/step - loss: 0.4001 - accuracy: 0.8235\n",
            "Epoch 51/200\n",
            "4/4 [==============================] - 0s 1ms/step - loss: 0.3242 - accuracy: 0.8824\n",
            "Epoch 52/200\n",
            "4/4 [==============================] - 0s 3ms/step - loss: 0.3775 - accuracy: 0.8824\n",
            "Epoch 53/200\n",
            "4/4 [==============================] - 0s 2ms/step - loss: 0.4607 - accuracy: 0.8235\n",
            "Epoch 54/200\n",
            "4/4 [==============================] - 0s 2ms/step - loss: 0.4741 - accuracy: 0.7647\n",
            "Epoch 55/200\n",
            "4/4 [==============================] - 0s 3ms/step - loss: 0.2910 - accuracy: 0.9412\n",
            "Epoch 56/200\n",
            "4/4 [==============================] - 0s 1ms/step - loss: 0.2422 - accuracy: 0.8824\n",
            "Epoch 57/200\n",
            "4/4 [==============================] - 0s 2ms/step - loss: 0.3227 - accuracy: 0.8824\n",
            "Epoch 58/200\n",
            "4/4 [==============================] - 0s 1ms/step - loss: 0.3634 - accuracy: 0.9412\n",
            "Epoch 59/200\n",
            "4/4 [==============================] - 0s 1ms/step - loss: 0.3145 - accuracy: 0.8824\n",
            "Epoch 60/200\n",
            "4/4 [==============================] - 0s 1ms/step - loss: 0.4603 - accuracy: 0.8824\n",
            "Epoch 61/200\n",
            "4/4 [==============================] - 0s 1ms/step - loss: 0.4076 - accuracy: 0.8235\n",
            "Epoch 62/200\n",
            "4/4 [==============================] - 0s 999us/step - loss: 0.3978 - accuracy: 0.8824\n",
            "Epoch 63/200\n",
            "4/4 [==============================] - 0s 2ms/step - loss: 0.2478 - accuracy: 0.9412\n",
            "Epoch 64/200\n",
            "4/4 [==============================] - 0s 1ms/step - loss: 0.4793 - accuracy: 0.8824\n",
            "Epoch 65/200\n",
            "4/4 [==============================] - 0s 3ms/step - loss: 0.2140 - accuracy: 0.9412\n",
            "Epoch 66/200\n",
            "4/4 [==============================] - 0s 1ms/step - loss: 0.3215 - accuracy: 0.8824\n",
            "Epoch 67/200\n",
            "4/4 [==============================] - 0s 2ms/step - loss: 0.3684 - accuracy: 0.9412\n",
            "Epoch 68/200\n",
            "4/4 [==============================] - 0s 1ms/step - loss: 0.3734 - accuracy: 0.9412\n",
            "Epoch 69/200\n",
            "4/4 [==============================] - 0s 688us/step - loss: 0.2587 - accuracy: 0.9412\n",
            "Epoch 70/200\n",
            "4/4 [==============================] - 0s 928us/step - loss: 0.4130 - accuracy: 0.8824\n",
            "Epoch 71/200\n",
            "4/4 [==============================] - 0s 666us/step - loss: 0.3617 - accuracy: 0.9412\n",
            "Epoch 72/200\n",
            "4/4 [==============================] - 0s 992us/step - loss: 0.3038 - accuracy: 0.8235\n",
            "Epoch 73/200\n",
            "4/4 [==============================] - 0s 1ms/step - loss: 0.3580 - accuracy: 0.8824\n",
            "Epoch 74/200\n",
            "4/4 [==============================] - 0s 2ms/step - loss: 0.3250 - accuracy: 0.9412\n",
            "Epoch 75/200\n",
            "4/4 [==============================] - 0s 1ms/step - loss: 0.3435 - accuracy: 0.7647\n",
            "Epoch 76/200\n",
            "4/4 [==============================] - 0s 3ms/step - loss: 0.2387 - accuracy: 0.9412\n",
            "Epoch 77/200\n",
            "4/4 [==============================] - 0s 667us/step - loss: 0.2485 - accuracy: 0.9412\n",
            "Epoch 78/200\n",
            "4/4 [==============================] - 0s 2ms/step - loss: 0.3274 - accuracy: 0.8824\n",
            "Epoch 79/200\n",
            "4/4 [==============================] - 0s 1ms/step - loss: 0.1998 - accuracy: 0.8824\n",
            "Epoch 80/200\n",
            "4/4 [==============================] - 0s 3ms/step - loss: 0.2598 - accuracy: 0.9412\n",
            "Epoch 81/200\n",
            "4/4 [==============================] - 0s 1ms/step - loss: 0.3153 - accuracy: 0.8824\n",
            "Epoch 82/200\n",
            "4/4 [==============================] - 0s 1ms/step - loss: 0.2209 - accuracy: 0.8824\n",
            "Epoch 83/200\n",
            "4/4 [==============================] - 0s 1ms/step - loss: 0.2076 - accuracy: 0.9412\n",
            "Epoch 84/200\n",
            "4/4 [==============================] - 0s 667us/step - loss: 0.2367 - accuracy: 0.8824\n",
            "Epoch 85/200\n",
            "4/4 [==============================] - 0s 1ms/step - loss: 0.3544 - accuracy: 0.8824\n",
            "Epoch 86/200\n",
            "4/4 [==============================] - 0s 1ms/step - loss: 0.3935 - accuracy: 0.8235\n",
            "Epoch 87/200\n",
            "4/4 [==============================] - 0s 2ms/step - loss: 0.2467 - accuracy: 0.9412\n",
            "Epoch 88/200\n",
            "4/4 [==============================] - 0s 1ms/step - loss: 0.3053 - accuracy: 0.9412\n",
            "Epoch 89/200\n",
            "4/4 [==============================] - 0s 2ms/step - loss: 0.3448 - accuracy: 0.8824\n",
            "Epoch 90/200\n",
            "4/4 [==============================] - 0s 1ms/step - loss: 0.1810 - accuracy: 0.9412\n",
            "Epoch 91/200\n",
            "4/4 [==============================] - 0s 2ms/step - loss: 0.2955 - accuracy: 0.8824\n",
            "Epoch 92/200\n",
            "4/4 [==============================] - 0s 1ms/step - loss: 0.2902 - accuracy: 0.9412\n",
            "Epoch 93/200\n",
            "4/4 [==============================] - 0s 3ms/step - loss: 0.1551 - accuracy: 0.9412\n",
            "Epoch 94/200\n",
            "4/4 [==============================] - 0s 1ms/step - loss: 0.1970 - accuracy: 0.9412\n",
            "Epoch 95/200\n",
            "4/4 [==============================] - 0s 2ms/step - loss: 0.3198 - accuracy: 0.9412\n",
            "Epoch 96/200\n",
            "4/4 [==============================] - 0s 1ms/step - loss: 0.2950 - accuracy: 0.8824\n",
            "Epoch 97/200\n",
            "4/4 [==============================] - 0s 3ms/step - loss: 0.2793 - accuracy: 0.9412\n",
            "Epoch 98/200\n",
            "4/4 [==============================] - 0s 2ms/step - loss: 0.2047 - accuracy: 0.9412\n",
            "Epoch 99/200\n",
            "4/4 [==============================] - 0s 2ms/step - loss: 0.2088 - accuracy: 0.8824\n",
            "Epoch 100/200\n",
            "4/4 [==============================] - 0s 1ms/step - loss: 0.4600 - accuracy: 0.8824\n",
            "Epoch 101/200\n",
            "4/4 [==============================] - 0s 2ms/step - loss: 0.1382 - accuracy: 0.9412\n",
            "Epoch 102/200\n",
            "4/4 [==============================] - 0s 999us/step - loss: 0.3901 - accuracy: 0.8824\n",
            "Epoch 103/200\n",
            "4/4 [==============================] - 0s 2ms/step - loss: 0.1461 - accuracy: 0.9412\n",
            "Epoch 104/200\n",
            "4/4 [==============================] - 0s 999us/step - loss: 0.2740 - accuracy: 0.8824\n",
            "Epoch 105/200\n",
            "4/4 [==============================] - 0s 1ms/step - loss: 0.3213 - accuracy: 0.8235\n",
            "Epoch 106/200\n",
            "4/4 [==============================] - 0s 1ms/step - loss: 0.1790 - accuracy: 0.8824\n",
            "Epoch 107/200\n",
            "4/4 [==============================] - 0s 1ms/step - loss: 0.1558 - accuracy: 1.0000\n",
            "Epoch 108/200\n",
            "4/4 [==============================] - 0s 2ms/step - loss: 0.2651 - accuracy: 0.8824\n",
            "Epoch 109/200\n",
            "4/4 [==============================] - 0s 997us/step - loss: 0.5373 - accuracy: 0.8235\n",
            "Epoch 110/200\n",
            "4/4 [==============================] - 0s 3ms/step - loss: 0.2043 - accuracy: 0.9412\n",
            "Epoch 111/200\n",
            "4/4 [==============================] - 0s 997us/step - loss: 0.3682 - accuracy: 0.8235\n",
            "Epoch 112/200\n",
            "4/4 [==============================] - 0s 3ms/step - loss: 0.3608 - accuracy: 0.8235\n",
            "Epoch 113/200\n",
            "4/4 [==============================] - 0s 1ms/step - loss: 0.1959 - accuracy: 0.9412\n",
            "Epoch 114/200\n",
            "4/4 [==============================] - 0s 1ms/step - loss: 0.1801 - accuracy: 0.9412\n",
            "Epoch 115/200\n",
            "4/4 [==============================] - 0s 1ms/step - loss: 0.4073 - accuracy: 0.8824\n",
            "Epoch 116/200\n",
            "4/4 [==============================] - 0s 667us/step - loss: 0.2502 - accuracy: 0.9412\n",
            "Epoch 117/200\n",
            "4/4 [==============================] - 0s 1ms/step - loss: 0.1674 - accuracy: 0.9412\n",
            "Epoch 118/200\n",
            "4/4 [==============================] - 0s 1ms/step - loss: 0.3986 - accuracy: 0.8824\n",
            "Epoch 119/200\n",
            "4/4 [==============================] - 0s 999us/step - loss: 0.2753 - accuracy: 0.9412\n",
            "Epoch 120/200\n",
            "4/4 [==============================] - 0s 999us/step - loss: 0.1856 - accuracy: 0.9412\n",
            "Epoch 121/200\n",
            "4/4 [==============================] - 0s 3ms/step - loss: 0.3613 - accuracy: 0.8824\n",
            "Epoch 122/200\n",
            "4/4 [==============================] - 0s 1ms/step - loss: 0.2840 - accuracy: 0.8824\n",
            "Epoch 123/200\n",
            "4/4 [==============================] - 0s 2ms/step - loss: 0.3156 - accuracy: 0.9412\n",
            "Epoch 124/200\n",
            "4/4 [==============================] - 0s 1ms/step - loss: 0.2963 - accuracy: 0.8235\n",
            "Epoch 125/200\n",
            "4/4 [==============================] - 0s 2ms/step - loss: 0.2497 - accuracy: 0.9412\n",
            "Epoch 126/200\n",
            "4/4 [==============================] - 0s 1ms/step - loss: 0.1837 - accuracy: 0.9412\n",
            "Epoch 127/200\n",
            "4/4 [==============================] - 0s 3ms/step - loss: 0.2890 - accuracy: 0.9412\n",
            "Epoch 128/200\n",
            "4/4 [==============================] - 0s 975us/step - loss: 0.1696 - accuracy: 0.9412\n",
            "Epoch 129/200\n",
            "4/4 [==============================] - 0s 2ms/step - loss: 0.2247 - accuracy: 0.9412\n",
            "Epoch 130/200\n",
            "4/4 [==============================] - 0s 1ms/step - loss: 0.0984 - accuracy: 0.9412\n",
            "Epoch 131/200\n",
            "4/4 [==============================] - 0s 1ms/step - loss: 0.2838 - accuracy: 0.9412\n",
            "Epoch 132/200\n",
            "4/4 [==============================] - 0s 999us/step - loss: 0.1592 - accuracy: 0.9412\n",
            "Epoch 133/200\n",
            "4/4 [==============================] - 0s 1ms/step - loss: 0.1467 - accuracy: 0.9412\n",
            "Epoch 134/200\n",
            "4/4 [==============================] - 0s 2ms/step - loss: 0.2731 - accuracy: 0.9412\n",
            "Epoch 135/200\n",
            "4/4 [==============================] - 0s 974us/step - loss: 0.1827 - accuracy: 0.9412\n",
            "Epoch 136/200\n",
            "4/4 [==============================] - 0s 3ms/step - loss: 0.3776 - accuracy: 0.8824\n",
            "Epoch 137/200\n",
            "4/4 [==============================] - 0s 905us/step - loss: 0.2022 - accuracy: 0.8824\n",
            "Epoch 138/200\n",
            "4/4 [==============================] - 0s 1ms/step - loss: 0.1824 - accuracy: 0.9412\n",
            "Epoch 139/200\n",
            "4/4 [==============================] - 0s 1ms/step - loss: 0.1755 - accuracy: 0.9412\n",
            "Epoch 140/200\n",
            "4/4 [==============================] - 0s 2ms/step - loss: 0.2080 - accuracy: 0.8824\n",
            "Epoch 141/200\n",
            "4/4 [==============================] - 0s 1ms/step - loss: 0.1332 - accuracy: 0.9412\n",
            "Epoch 142/200\n",
            "4/4 [==============================] - 0s 1ms/step - loss: 0.1690 - accuracy: 0.8824\n",
            "Epoch 143/200\n",
            "4/4 [==============================] - 0s 1ms/step - loss: 0.3198 - accuracy: 0.9412\n",
            "Epoch 144/200\n",
            "4/4 [==============================] - 0s 836us/step - loss: 0.1351 - accuracy: 0.9412\n",
            "Epoch 145/200\n",
            "4/4 [==============================] - 0s 2ms/step - loss: 0.2277 - accuracy: 0.9412\n",
            "Epoch 146/200\n",
            "4/4 [==============================] - 0s 1ms/step - loss: 0.3118 - accuracy: 0.9412\n",
            "Epoch 147/200\n",
            "4/4 [==============================] - 0s 3ms/step - loss: 0.1883 - accuracy: 0.8824\n",
            "Epoch 148/200\n",
            "4/4 [==============================] - 0s 1ms/step - loss: 0.2645 - accuracy: 0.9412\n",
            "Epoch 149/200\n",
            "4/4 [==============================] - 0s 1ms/step - loss: 0.2169 - accuracy: 0.8824\n",
            "Epoch 150/200\n",
            "4/4 [==============================] - 0s 998us/step - loss: 0.2171 - accuracy: 0.8824\n",
            "Epoch 151/200\n",
            "4/4 [==============================] - 0s 997us/step - loss: 0.1576 - accuracy: 0.9412\n",
            "Epoch 152/200\n",
            "4/4 [==============================] - 0s 1ms/step - loss: 0.2731 - accuracy: 0.9412\n",
            "Epoch 153/200\n",
            "4/4 [==============================] - 0s 1ms/step - loss: 0.2147 - accuracy: 0.9412\n",
            "Epoch 154/200\n",
            "4/4 [==============================] - 0s 1ms/step - loss: 0.2016 - accuracy: 0.9412\n",
            "Epoch 155/200\n",
            "4/4 [==============================] - 0s 1000us/step - loss: 0.1447 - accuracy: 0.9412\n",
            "Epoch 156/200\n",
            "4/4 [==============================] - 0s 1000us/step - loss: 0.3752 - accuracy: 0.8824\n",
            "Epoch 157/200\n",
            "4/4 [==============================] - 0s 1ms/step - loss: 0.1333 - accuracy: 0.9412\n",
            "Epoch 158/200\n",
            "4/4 [==============================] - 0s 2ms/step - loss: 0.3143 - accuracy: 0.8824\n",
            "Epoch 159/200\n",
            "4/4 [==============================] - 0s 2ms/step - loss: 0.1946 - accuracy: 0.9412\n",
            "Epoch 160/200\n",
            "4/4 [==============================] - 0s 2ms/step - loss: 0.2121 - accuracy: 0.9412\n",
            "Epoch 161/200\n",
            "4/4 [==============================] - 0s 1ms/step - loss: 0.1496 - accuracy: 0.9412\n",
            "Epoch 162/200\n",
            "4/4 [==============================] - 0s 2ms/step - loss: 0.1511 - accuracy: 0.9412\n",
            "Epoch 163/200\n",
            "4/4 [==============================] - 0s 1000us/step - loss: 0.2795 - accuracy: 0.8824\n",
            "Epoch 164/200\n",
            "4/4 [==============================] - 0s 2ms/step - loss: 0.2087 - accuracy: 0.9412\n",
            "Epoch 165/200\n",
            "4/4 [==============================] - 0s 1ms/step - loss: 0.2592 - accuracy: 0.8824\n",
            "Epoch 166/200\n",
            "4/4 [==============================] - 0s 1ms/step - loss: 0.1811 - accuracy: 0.9412\n",
            "Epoch 167/200\n",
            "4/4 [==============================] - 0s 665us/step - loss: 0.1882 - accuracy: 0.9412\n",
            "Epoch 168/200\n",
            "4/4 [==============================] - 0s 1ms/step - loss: 0.2710 - accuracy: 0.8824\n",
            "Epoch 169/200\n",
            "4/4 [==============================] - 0s 1ms/step - loss: 0.2476 - accuracy: 0.9412\n",
            "Epoch 170/200\n",
            "4/4 [==============================] - 0s 1ms/step - loss: 0.1797 - accuracy: 0.9412\n",
            "Epoch 171/200\n",
            "4/4 [==============================] - 0s 2ms/step - loss: 0.2536 - accuracy: 0.9412\n",
            "Epoch 172/200\n",
            "4/4 [==============================] - 0s 1ms/step - loss: 0.2146 - accuracy: 0.9412\n",
            "Epoch 173/200\n",
            "4/4 [==============================] - 0s 2ms/step - loss: 0.2283 - accuracy: 0.9412\n",
            "Epoch 174/200\n",
            "4/4 [==============================] - 0s 1ms/step - loss: 0.1645 - accuracy: 0.9412\n",
            "Epoch 175/200\n",
            "4/4 [==============================] - 0s 2ms/step - loss: 0.1804 - accuracy: 0.9412\n",
            "Epoch 176/200\n",
            "4/4 [==============================] - 0s 1000us/step - loss: 0.1730 - accuracy: 0.9412\n",
            "Epoch 177/200\n",
            "4/4 [==============================] - 0s 2ms/step - loss: 0.1715 - accuracy: 0.9412\n",
            "Epoch 178/200\n",
            "4/4 [==============================] - 0s 1ms/step - loss: 0.2689 - accuracy: 0.9412\n",
            "Epoch 179/200\n",
            "4/4 [==============================] - 0s 3ms/step - loss: 0.1480 - accuracy: 0.9412\n",
            "Epoch 180/200\n",
            "4/4 [==============================] - 0s 1ms/step - loss: 0.1492 - accuracy: 0.9412\n",
            "Epoch 181/200\n",
            "4/4 [==============================] - 0s 2ms/step - loss: 0.2468 - accuracy: 0.9412\n",
            "Epoch 182/200\n",
            "4/4 [==============================] - 0s 2ms/step - loss: 0.2292 - accuracy: 0.9412\n",
            "Epoch 183/200\n",
            "4/4 [==============================] - 0s 2ms/step - loss: 0.2662 - accuracy: 0.8824\n",
            "Epoch 184/200\n",
            "4/4 [==============================] - 0s 3ms/step - loss: 0.1757 - accuracy: 0.9412\n",
            "Epoch 185/200\n",
            "4/4 [==============================] - 0s 1ms/step - loss: 0.1685 - accuracy: 0.9412\n",
            "Epoch 186/200\n",
            "4/4 [==============================] - 0s 2ms/step - loss: 0.2489 - accuracy: 0.9412\n",
            "Epoch 187/200\n",
            "4/4 [==============================] - 0s 1ms/step - loss: 0.1658 - accuracy: 0.9412\n",
            "Epoch 188/200\n",
            "4/4 [==============================] - 0s 1ms/step - loss: 0.2116 - accuracy: 0.9412\n",
            "Epoch 189/200\n",
            "4/4 [==============================] - 0s 999us/step - loss: 0.2971 - accuracy: 0.9412\n",
            "Epoch 190/200\n",
            "4/4 [==============================] - 0s 2ms/step - loss: 0.2044 - accuracy: 0.9412\n",
            "Epoch 191/200\n",
            "4/4 [==============================] - 0s 1ms/step - loss: 0.2320 - accuracy: 0.8824\n",
            "Epoch 192/200\n",
            "4/4 [==============================] - 0s 2ms/step - loss: 0.1450 - accuracy: 0.9412\n",
            "Epoch 193/200\n",
            "4/4 [==============================] - 0s 1ms/step - loss: 0.2191 - accuracy: 0.8824\n",
            "Epoch 194/200\n",
            "4/4 [==============================] - 0s 1ms/step - loss: 0.1859 - accuracy: 0.8824\n",
            "Epoch 195/200\n",
            "4/4 [==============================] - 0s 1ms/step - loss: 0.3203 - accuracy: 0.8824\n",
            "Epoch 196/200\n",
            "4/4 [==============================] - 0s 1ms/step - loss: 0.1975 - accuracy: 0.9412\n",
            "Epoch 197/200\n",
            "4/4 [==============================] - 0s 1ms/step - loss: 0.1653 - accuracy: 0.9412\n",
            "Epoch 198/200\n",
            "4/4 [==============================] - 0s 1ms/step - loss: 0.1918 - accuracy: 0.8824\n",
            "Epoch 199/200\n",
            "4/4 [==============================] - 0s 2ms/step - loss: 0.1210 - accuracy: 0.9412\n",
            "Epoch 200/200\n",
            "4/4 [==============================] - 0s 1000us/step - loss: 0.2229 - accuracy: 0.9412\n"
          ]
        }
      ],
      "source": [
        "# Compile the model\n",
        "# No changes here \n",
        "\n",
        "sgd = gradient_descent_v2.SGD(lr=0.01, decay=1e-6, momentum=0.9, nesterov=True)\n",
        "model.compile(loss='categorical_crossentropy',\n",
        "              optimizer=sgd, metrics=['accuracy'])\n",
        "hist = model.fit(np.array(train_x), np.array(train_y),\n",
        "                 epochs=200, batch_size=5, verbose=1)"
      ]
    },
    {
      "cell_type": "code",
      "execution_count": 17,
      "metadata": {
        "colab": {
          "base_uri": "https://localhost:8080/"
        },
        "id": "sVZRlKm59JTa",
        "outputId": "0974b027-6d62-40bc-83f6-248f8862af6e"
      },
      "outputs": [
        {
          "name": "stdout",
          "output_type": "stream",
          "text": [
            "Model saved!\n"
          ]
        }
      ],
      "source": [
        "# Save the model for use ahead\n",
        "# No changes here\n",
        "\n",
        "model.save(\"chatbotmodel.h5\", hist)\n",
        "  \n",
        "# Print a message for the successful training of the Chatbot model\n",
        "print(\"Model saved!\")"
      ]
    },
    {
      "cell_type": "markdown",
      "metadata": {
        "id": "eQH3UWAQDVWJ"
      },
      "source": [
        "# And finally, we execute the Chatbot Model"
      ]
    },
    {
      "cell_type": "code",
      "execution_count": 18,
      "metadata": {
        "id": "K308ezKM-lqN"
      },
      "outputs": [],
      "source": [
        "# No change\n",
        "\n",
        "from keras.models import load_model"
      ]
    },
    {
      "cell_type": "code",
      "execution_count": 19,
      "metadata": {
        "id": "DYuwIY3T4vFv"
      },
      "outputs": [],
      "source": [
        "# Load the files we made previously - \n",
        "# load 'intense.json' into variable 'intents'\n",
        "# load 'words.pk1' into variable 'words'\n",
        "# load 'classes.pk1' into variable 'classes'\n",
        "# load 'chatbotmodel.h5' into variable 'model'\n",
        "with open('intense.json', 'r') as file:\n",
        "    intents = json.load(file)\n",
        "\n",
        "with open('words.pkl', 'rb') as file:\n",
        "    words = pickle.load(file)\n",
        "\n",
        "with open('classes.pkl', 'rb') as file:\n",
        "    data = pickle.load(file)\n",
        "\n",
        "model = load_model('chatbotmodel.h5')\n",
        "\n"
      ]
    },
    {
      "cell_type": "code",
      "execution_count": 20,
      "metadata": {
        "id": "B37naI9G4wwq"
      },
      "outputs": [],
      "source": [
        "# Create a function 'clean_up_sentences(sentence)' to separate words from the input sentences (this is called tokenisation). \n",
        "# Use nltk.word_tokenize(sentence) and return the words of the sentence after lemmatization\n",
        "\n",
        "# your code here\n",
        "\n",
        "def clean_up_sentences(sentence):\n",
        "    tokens = nltk.word_tokenize(sentence)\n",
        "    lemmatizer = WordNetLemmatizer()\n",
        "    lemmas = [lemmatizer.lemmatize(token) for token in tokens]\n",
        "    return lemmas"
      ]
    },
    {
      "cell_type": "code",
      "execution_count": 21,
      "metadata": {
        "id": "XhJns4tr4y44"
      },
      "outputs": [],
      "source": [
        "# Create a function 'bagw(sentence)' to  append 1 to a list variable ‘bag’ if the word is contained inside our input and is also present in the list of words created earlier.\n",
        "# Return a numpy array of the list variable bag that now contains 1’s and 0’s.\n",
        "\n",
        "def bagw(sentence):\n",
        "    \n",
        "    # Separate out words from the input sentence\n",
        "    sentence_words = clean_up_sentences(sentence)\n",
        "    bag = [0]*len(words)\n",
        "    for w in sentence_words:\n",
        "        for i, word in enumerate(words):\n",
        "  \n",
        "            # check whether the word\n",
        "            # is present in the input as well\n",
        "            \n",
        "            #your code here\n",
        "            if word == w:\n",
        "                bag[i] = 1\n",
        "                break\n",
        "            \n",
        "            \n",
        "    # return a numpy array\n",
        "    return np.array(bag)"
      ]
    },
    {
      "cell_type": "code",
      "execution_count": 22,
      "metadata": {
        "id": "vmMykTgU5Bcj"
      },
      "outputs": [],
      "source": [
        "# Create a function 'predict_class(sentence)' to predict the class of the sentence input by the user.\n",
        "\n",
        "def predict_class(sentence):\n",
        "  # Initialize a variable 'bow' that will contain a NumPy array of 0’s and 1’s, using the bag(w) function defined above\n",
        "  # Your line of code here \n",
        "    bow = bagw(sentence)\n",
        "    res = model.predict(np.array([bow]))[0]\n",
        "\n",
        "    # In variable 'results', append from ‘res’ if the value is greater than the ERROR_THRESHOLD, then sort it using the sort function. \n",
        "    # No change\n",
        "    ERROR_THRESHOLD = 0.25\n",
        "    results = [[i, r] for i, r in enumerate(res) \n",
        "               if r > ERROR_THRESHOLD]\n",
        "    results.sort(key=lambda x: x[1], reverse=True)\n",
        "    return_list = []\n",
        "    for r in results:\n",
        "        return_list.append({'intent': classes[r[0]],\n",
        "                            'probability': str(r[1])})\n",
        "    return return_list"
      ]
    },
    {
      "cell_type": "code",
      "execution_count": 23,
      "metadata": {
        "colab": {
          "base_uri": "https://localhost:8080/"
        },
        "id": "H3pZt1HP5N16",
        "outputId": "3d15058d-b2ff-49b4-8c87-772e734352ea"
      },
      "outputs": [
        {
          "name": "stdout",
          "output_type": "stream",
          "text": [
            "Chatbot is up!\n"
          ]
        }
      ],
      "source": [
        "# Create 'get_response(intents_list, intents_json)' to generate a random response from whichever class the sentence/words input by the user belongs to.\n",
        "\n",
        "def get_response(intents_list, intents_json):\n",
        "    tag = intents_list[0]['intent']\n",
        "    list_of_intents = intents_json['intents']\n",
        "    result = \"\"\n",
        "    for i in list_of_intents:\n",
        "    # If the tag matches the tag in list_of_intents, store a random response from the 'intense.json' file in a variable called 'result'\n",
        "    # your code here\n",
        "        if tag == i:\n",
        "            result = intents_json[int(Math.random()*len(intents_json))]['responses']        \n",
        "    return result\n",
        "  \n",
        "print(\"Chatbot is up!\")"
      ]
    },
    {
      "cell_type": "markdown",
      "metadata": {
        "id": "SuM0e3TM5Q2-"
      },
      "source": [
        "# And our Chatbot is ready! Time to get it into action"
      ]
    },
    {
      "cell_type": "code",
      "execution_count": 26,
      "metadata": {
        "colab": {
          "base_uri": "https://localhost:8080/"
        },
        "id": "hTQMUoPs5R3i",
        "outputId": "f04ca5dc-a13f-4408-9c73-1dc845af9fa7"
      },
      "outputs": [
        {
          "name": "stdout",
          "output_type": "stream",
          "text": [
            "[{'intent': 'greeting', 'probability': '0.82757616'}]\n",
            "\n",
            "[{'intent': 'goodbye', 'probability': '0.9962465'}]\n",
            "\n"
          ]
        }
      ],
      "source": [
        "# Create an infinite loop to keep the model running.\n",
        "# No edits here\n",
        "\n",
        "while True:\n",
        "    message = input(\"\")\n",
        "    ints = predict_class(message)\n",
        "    print(ints)\n",
        "    res = get_response(ints, intents)\n",
        "    print(res)\n",
        "    # Write a couple of lines of code to stop the infinite loop if the intent of the message is 'goodbye'\n",
        "    if ints[0]['intent'] == 'goodbye':\n",
        "        break"
      ]
    }
  ],
  "metadata": {
    "colab": {
      "provenance": []
    },
    "kernelspec": {
      "display_name": "tf-gpu",
      "language": "python",
      "name": "python3"
    },
    "language_info": {
      "codemirror_mode": {
        "name": "ipython",
        "version": 3
      },
      "file_extension": ".py",
      "mimetype": "text/x-python",
      "name": "python",
      "nbconvert_exporter": "python",
      "pygments_lexer": "ipython3",
      "version": "3.9.16"
    },
    "vscode": {
      "interpreter": {
        "hash": "191ffee6e6905c36c22fb160f7253c501b77cea899ba8d625d2bcad74c80178d"
      }
    }
  },
  "nbformat": 4,
  "nbformat_minor": 0
}
