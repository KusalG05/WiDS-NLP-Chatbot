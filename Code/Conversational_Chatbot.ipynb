{
  "nbformat": 4,
  "nbformat_minor": 0,
  "metadata": {
    "colab": {
      "provenance": []
    },
    "kernelspec": {
      "name": "python3",
      "display_name": "Python 3"
    },
    "language_info": {
      "name": "python"
    }
  },
  "cells": [
    {
      "cell_type": "markdown",
      "source": [
        "# Conversational Chatbot"
      ],
      "metadata": {
        "id": "BqfgH7c2_R8w"
      }
    },
    {
      "cell_type": "markdown",
      "source": [
        "**Following below is the entire code for a basic chatbot model. Some code has been removed after execution. Your job is to complete the code so that it gives the corresponsing suitable output.**\n",
        "\n",
        "Install any dependencies and libraries as required. Most of them work with a simple 'pip install' in the terminal window.\n",
        "\n",
        "Remember to go through the intense.json file carefully to understand its components well.\n",
        "\n",
        "If you are using Colab, then no dependencies need to be downloaded."
      ],
      "metadata": {
        "id": "1qkd_CmY_nMI"
      }
    },
    {
      "cell_type": "code",
      "execution_count": 1,
      "metadata": {
        "id": "i_4p2vN3LEPv"
      },
      "outputs": [],
      "source": [
        "# Import the required modules\n",
        "# Nothing to be added or changed here.\n",
        "\n",
        "import random\n",
        "import json\n",
        "import pickle\n",
        "import numpy as np\n",
        "import nltk\n",
        "import tensorflow as tf"
      ]
    },
    {
      "cell_type": "markdown",
      "source": [
        "# NLTK\n",
        "\n",
        "For this chatbot, we employ the Natural Language ToolKit (NLTK). NLTK is a suite of libraries and programs for symbolic and statistical natural language processing for English. It is very commonly used to process English words and work with human language data. It helps us to break down and process the input text and resolve it suitably into the desired output."
      ],
      "metadata": {
        "id": "FK0GKkKtAIfK"
      }
    },
    {
      "cell_type": "code",
      "source": [
        "# ONLY IF YOU ARE USING COLAB. Upload intense.json to your drive and mount the drive to access it\n",
        "# Nothing to be added or changed here.\n",
        "\n",
        "from google.colab import drive\n",
        "drive.mount('/content/my-drive')"
      ],
      "metadata": {
        "colab": {
          "base_uri": "https://localhost:8080/"
        },
        "id": "uApRx3MP7Xb7",
        "outputId": "6af39281-ce3d-4422-aa27-a0c57845e794"
      },
      "execution_count": 2,
      "outputs": [
        {
          "output_type": "stream",
          "name": "stdout",
          "text": [
            "Drive already mounted at /content/my-drive; to attempt to forcibly remount, call drive.mount(\"/content/my-drive\", force_remount=True).\n"
          ]
        }
      ]
    },
    {
      "cell_type": "code",
      "source": [
        "!cp '/content/my-drive/MyDrive/WiDS 2022/intense.json' '/content'"
      ],
      "metadata": {
        "id": "HH0sN3L98PWp"
      },
      "execution_count": 4,
      "outputs": []
    },
    {
      "cell_type": "markdown",
      "source": [
        "## Now begins the code to train our language model"
      ],
      "metadata": {
        "id": "JJa2FRV78eQh"
      }
    },
    {
      "cell_type": "code",
      "source": [
        "# Import the required modules\n",
        "# Nothing to be added or changed here.\n",
        "\n",
        "from keras.models import Sequential\n",
        "from nltk.stem import WordNetLemmatizer\n",
        "from keras.layers import Dense, Activation, Dropout\n",
        "from keras.optimizers import SGD"
      ],
      "metadata": {
        "id": "vX9VzCYa8XYZ"
      },
      "execution_count": 5,
      "outputs": []
    },
    {
      "cell_type": "code",
      "source": [
        "nltk.download('punkt')"
      ],
      "metadata": {
        "colab": {
          "base_uri": "https://localhost:8080/"
        },
        "id": "pnvJMO6FHZyE",
        "outputId": "3d8b64d0-b13a-4ea0-fe26-4d33006569c6"
      },
      "execution_count": 11,
      "outputs": [
        {
          "output_type": "stream",
          "name": "stderr",
          "text": [
            "[nltk_data] Downloading package punkt to /root/nltk_data...\n",
            "[nltk_data]   Unzipping tokenizers/punkt.zip.\n"
          ]
        },
        {
          "output_type": "execute_result",
          "data": {
            "text/plain": [
              "True"
            ]
          },
          "metadata": {},
          "execution_count": 11
        }
      ]
    },
    {
      "cell_type": "code",
      "source": [
        "# Create a lemmatizer. This later helps in processing the input text. \n",
        "# Nothing to be added or changed here.\n",
        "\n",
        "lemmatizer = WordNetLemmatizer()"
      ],
      "metadata": {
        "id": "zZ1-xNeS4szo"
      },
      "execution_count": 6,
      "outputs": []
    },
    {
      "cell_type": "code",
      "source": [
        "# Read the json.intense file\n",
        "# Nothing to be added or changed here.\n",
        "\n",
        "intents = json.loads(open(\"/content/intense.json\").read())"
      ],
      "metadata": {
        "id": "fPna404R8ow-"
      },
      "execution_count": 7,
      "outputs": []
    },
    {
      "cell_type": "code",
      "source": [
        "# Creating empty lists to store data\n",
        "# Nothing to be added or changed here.\n",
        "\n",
        "words = []\n",
        "classes = []\n",
        "documents = []\n",
        "ignore_letters = [\"?\", \"!\", \".\", \",\"]\n",
        "for intent in intents['intents']:\n",
        "    for pattern in intent['patterns']:\n",
        "        # separating words from patterns\n",
        "        word_list = nltk.word_tokenize(pattern)\n",
        "        words.extend(word_list)  # and adding them to words list\n",
        "          \n",
        "        # associating patterns with respective tags\n",
        "        documents.append(((word_list), intent['tag']))\n",
        "  \n",
        "        # appending the tags to the class list\n",
        "        if intent['tag'] not in classes:\n",
        "            classes.append(intent['tag'])"
      ],
      "metadata": {
        "id": "3l9W6c-g83QJ"
      },
      "execution_count": 13,
      "outputs": []
    },
    {
      "cell_type": "code",
      "source": [
        "nltk.download('wordnet')\n",
        "nltk.download('omw-1.4')"
      ],
      "metadata": {
        "colab": {
          "base_uri": "https://localhost:8080/"
        },
        "id": "6fSQ7F8eHiel",
        "outputId": "fbe8a785-dbe1-4b4e-e240-289877ade89b"
      },
      "execution_count": 17,
      "outputs": [
        {
          "output_type": "stream",
          "name": "stderr",
          "text": [
            "[nltk_data] Downloading package wordnet to /root/nltk_data...\n",
            "[nltk_data]   Package wordnet is already up-to-date!\n",
            "[nltk_data] Downloading package omw-1.4 to /root/nltk_data...\n"
          ]
        },
        {
          "output_type": "execute_result",
          "data": {
            "text/plain": [
              "True"
            ]
          },
          "metadata": {},
          "execution_count": 17
        }
      ]
    },
    {
      "cell_type": "code",
      "source": [
        "# Store the root words or lemma using the lemmatizer\n",
        "# Nothing to be added or changed here.\n",
        "\n",
        "words = [lemmatizer.lemmatize(word)\n",
        "         for word in words if word not in ignore_letters]\n",
        "words = sorted(set(words))"
      ],
      "metadata": {
        "id": "JLuk8vuN84nY"
      },
      "execution_count": 19,
      "outputs": []
    },
    {
      "cell_type": "code",
      "source": [
        "# Save the words and classes list to binary files\n",
        "# Nothing to be added or changed here.\n",
        "\n",
        "pickle.dump(words, open('words.pkl', 'wb'))\n",
        "pickle.dump(classes, open('classes.pkl', 'wb'))"
      ],
      "metadata": {
        "id": "Q1yFVBVs87I9"
      },
      "execution_count": 20,
      "outputs": []
    },
    {
      "cell_type": "markdown",
      "source": [
        "Now, we convert the text into numerical form to make it readible to the neural network that will be created"
      ],
      "metadata": {
        "id": "SibDOlo3B4wu"
      }
    },
    {
      "cell_type": "code",
      "source": [
        "# No changes here\n",
        "\n",
        "training = []\n",
        "output_empty = [0]*len(classes)\n",
        "for document in documents:\n",
        "    bag = [] # Recall Bag of Words!\n",
        "    word_patterns = document[0]\n",
        "    word_patterns = [lemmatizer.lemmatize(\n",
        "        word.lower()) for word in word_patterns]\n",
        "    for word in words:\n",
        "        bag.append(1) if word in word_patterns else bag.append(0)\n",
        "          \n",
        "    # Make a copy of the output_empty\n",
        "    output_row = list(output_empty)\n",
        "    output_row[classes.index(document[1])] = 1\n",
        "    training.append([bag, output_row])\n",
        "random.shuffle(training)\n",
        "training = np.array(training)"
      ],
      "metadata": {
        "id": "JboFyPDV89QD",
        "colab": {
          "base_uri": "https://localhost:8080/"
        },
        "outputId": "1f0c2ea3-adad-4952-bc5c-3317dc31b881"
      },
      "execution_count": 21,
      "outputs": [
        {
          "output_type": "stream",
          "name": "stderr",
          "text": [
            "<ipython-input-21-cd8c504277ce>:18: VisibleDeprecationWarning: Creating an ndarray from ragged nested sequences (which is a list-or-tuple of lists-or-tuples-or ndarrays with different lengths or shapes) is deprecated. If you meant to do this, you must specify 'dtype=object' when creating the ndarray.\n",
            "  training = np.array(training)\n"
          ]
        }
      ]
    },
    {
      "cell_type": "markdown",
      "source": [
        "# Now is where the real training code starts!"
      ],
      "metadata": {
        "id": "fAd_5qiLCOXT"
      }
    },
    {
      "cell_type": "code",
      "source": [
        "# Split the data into train_x and train_y\n",
        "# your code here\n"
      ],
      "metadata": {
        "id": "hzvkTPzi9BmV"
      },
      "execution_count": 22,
      "outputs": []
    },
    {
      "cell_type": "code",
      "source": [
        "# Create a Neural network using a Sequential layer, followed by a few alternating dense and dropout layers. \n",
        "# Use activation function 'relu' and a dropout of 0.5. For the last dense layer, use 'softmax' activation function\n",
        "# your code here\n",
        "\n"
      ],
      "metadata": {
        "id": "s7h7zx9h9EQI"
      },
      "execution_count": 23,
      "outputs": []
    },
    {
      "cell_type": "code",
      "source": [
        "# Compile the model\n",
        "# No changes here \n",
        "\n",
        "sgd = SGD(lr=0.01, decay=1e-6, momentum=0.9, nesterov=True)\n",
        "model.compile(loss='categorical_crossentropy',\n",
        "              optimizer=sgd, metrics=['accuracy'])\n",
        "hist = model.fit(np.array(train_x), np.array(train_y),\n",
        "                 epochs=200, batch_size=5, verbose=1)"
      ],
      "metadata": {
        "colab": {
          "base_uri": "https://localhost:8080/"
        },
        "id": "_uBqf5rW9Gzi",
        "outputId": "6e5b596c-458d-4d86-d6ee-5b426325283e"
      },
      "execution_count": 24,
      "outputs": [
        {
          "output_type": "stream",
          "name": "stderr",
          "text": [
            "/usr/local/lib/python3.8/dist-packages/keras/optimizers/optimizer_v2/gradient_descent.py:108: UserWarning: The `lr` argument is deprecated, use `learning_rate` instead.\n",
            "  super(SGD, self).__init__(name, **kwargs)\n"
          ]
        },
        {
          "output_type": "stream",
          "name": "stdout",
          "text": [
            "Epoch 1/200\n",
            "10/10 [==============================] - 1s 3ms/step - loss: 2.2224 - accuracy: 0.2128\n",
            "Epoch 2/200\n",
            "10/10 [==============================] - 0s 3ms/step - loss: 2.1408 - accuracy: 0.1489\n",
            "Epoch 3/200\n",
            "10/10 [==============================] - 0s 4ms/step - loss: 2.0539 - accuracy: 0.2979\n",
            "Epoch 4/200\n",
            "10/10 [==============================] - 0s 3ms/step - loss: 2.0355 - accuracy: 0.4468\n",
            "Epoch 5/200\n",
            "10/10 [==============================] - 0s 3ms/step - loss: 1.9963 - accuracy: 0.3404\n",
            "Epoch 6/200\n",
            "10/10 [==============================] - 0s 3ms/step - loss: 1.7635 - accuracy: 0.5745\n",
            "Epoch 7/200\n",
            "10/10 [==============================] - 0s 3ms/step - loss: 1.7511 - accuracy: 0.4681\n",
            "Epoch 8/200\n",
            "10/10 [==============================] - 0s 3ms/step - loss: 1.5835 - accuracy: 0.5532\n",
            "Epoch 9/200\n",
            "10/10 [==============================] - 0s 2ms/step - loss: 1.3928 - accuracy: 0.5957\n",
            "Epoch 10/200\n",
            "10/10 [==============================] - 0s 3ms/step - loss: 1.3515 - accuracy: 0.5532\n",
            "Epoch 11/200\n",
            "10/10 [==============================] - 0s 3ms/step - loss: 1.1802 - accuracy: 0.7234\n",
            "Epoch 12/200\n",
            "10/10 [==============================] - 0s 3ms/step - loss: 1.1857 - accuracy: 0.7447\n",
            "Epoch 13/200\n",
            "10/10 [==============================] - 0s 3ms/step - loss: 0.9830 - accuracy: 0.7021\n",
            "Epoch 14/200\n",
            "10/10 [==============================] - 0s 3ms/step - loss: 0.9656 - accuracy: 0.7447\n",
            "Epoch 15/200\n",
            "10/10 [==============================] - 0s 3ms/step - loss: 0.9071 - accuracy: 0.6383\n",
            "Epoch 16/200\n",
            "10/10 [==============================] - 0s 2ms/step - loss: 0.8154 - accuracy: 0.7447\n",
            "Epoch 17/200\n",
            "10/10 [==============================] - 0s 3ms/step - loss: 0.7315 - accuracy: 0.8511\n",
            "Epoch 18/200\n",
            "10/10 [==============================] - 0s 5ms/step - loss: 0.7962 - accuracy: 0.7872\n",
            "Epoch 19/200\n",
            "10/10 [==============================] - 0s 2ms/step - loss: 0.6141 - accuracy: 0.9149\n",
            "Epoch 20/200\n",
            "10/10 [==============================] - 0s 2ms/step - loss: 0.7038 - accuracy: 0.7872\n",
            "Epoch 21/200\n",
            "10/10 [==============================] - 0s 2ms/step - loss: 0.6472 - accuracy: 0.7872\n",
            "Epoch 22/200\n",
            "10/10 [==============================] - 0s 2ms/step - loss: 0.4479 - accuracy: 0.8936\n",
            "Epoch 23/200\n",
            "10/10 [==============================] - 0s 2ms/step - loss: 0.4458 - accuracy: 0.9149\n",
            "Epoch 24/200\n",
            "10/10 [==============================] - 0s 4ms/step - loss: 0.5159 - accuracy: 0.8511\n",
            "Epoch 25/200\n",
            "10/10 [==============================] - 0s 2ms/step - loss: 0.4304 - accuracy: 0.8936\n",
            "Epoch 26/200\n",
            "10/10 [==============================] - 0s 3ms/step - loss: 0.4020 - accuracy: 0.8723\n",
            "Epoch 27/200\n",
            "10/10 [==============================] - 0s 2ms/step - loss: 0.3968 - accuracy: 0.8723\n",
            "Epoch 28/200\n",
            "10/10 [==============================] - 0s 3ms/step - loss: 0.3480 - accuracy: 0.8936\n",
            "Epoch 29/200\n",
            "10/10 [==============================] - 0s 3ms/step - loss: 0.3396 - accuracy: 0.9362\n",
            "Epoch 30/200\n",
            "10/10 [==============================] - 0s 3ms/step - loss: 0.3420 - accuracy: 0.8936\n",
            "Epoch 31/200\n",
            "10/10 [==============================] - 0s 3ms/step - loss: 0.3679 - accuracy: 0.9362\n",
            "Epoch 32/200\n",
            "10/10 [==============================] - 0s 3ms/step - loss: 0.3993 - accuracy: 0.8723\n",
            "Epoch 33/200\n",
            "10/10 [==============================] - 0s 3ms/step - loss: 0.2959 - accuracy: 0.9149\n",
            "Epoch 34/200\n",
            "10/10 [==============================] - 0s 3ms/step - loss: 0.2975 - accuracy: 0.9149\n",
            "Epoch 35/200\n",
            "10/10 [==============================] - 0s 3ms/step - loss: 0.2705 - accuracy: 0.9362\n",
            "Epoch 36/200\n",
            "10/10 [==============================] - 0s 2ms/step - loss: 0.2879 - accuracy: 0.9149\n",
            "Epoch 37/200\n",
            "10/10 [==============================] - 0s 3ms/step - loss: 0.2058 - accuracy: 0.9787\n",
            "Epoch 38/200\n",
            "10/10 [==============================] - 0s 3ms/step - loss: 0.2197 - accuracy: 0.9362\n",
            "Epoch 39/200\n",
            "10/10 [==============================] - 0s 3ms/step - loss: 0.2328 - accuracy: 0.9362\n",
            "Epoch 40/200\n",
            "10/10 [==============================] - 0s 3ms/step - loss: 0.2656 - accuracy: 0.8936\n",
            "Epoch 41/200\n",
            "10/10 [==============================] - 0s 3ms/step - loss: 0.2836 - accuracy: 0.9362\n",
            "Epoch 42/200\n",
            "10/10 [==============================] - 0s 2ms/step - loss: 0.2647 - accuracy: 0.9149\n",
            "Epoch 43/200\n",
            "10/10 [==============================] - 0s 3ms/step - loss: 0.3092 - accuracy: 0.8723\n",
            "Epoch 44/200\n",
            "10/10 [==============================] - 0s 2ms/step - loss: 0.2279 - accuracy: 0.9574\n",
            "Epoch 45/200\n",
            "10/10 [==============================] - 0s 4ms/step - loss: 0.3011 - accuracy: 0.9362\n",
            "Epoch 46/200\n",
            "10/10 [==============================] - 0s 3ms/step - loss: 0.3055 - accuracy: 0.8936\n",
            "Epoch 47/200\n",
            "10/10 [==============================] - 0s 3ms/step - loss: 0.3554 - accuracy: 0.9149\n",
            "Epoch 48/200\n",
            "10/10 [==============================] - 0s 3ms/step - loss: 0.1763 - accuracy: 0.9574\n",
            "Epoch 49/200\n",
            "10/10 [==============================] - 0s 2ms/step - loss: 0.2422 - accuracy: 0.9149\n",
            "Epoch 50/200\n",
            "10/10 [==============================] - 0s 3ms/step - loss: 0.2258 - accuracy: 0.9362\n",
            "Epoch 51/200\n",
            "10/10 [==============================] - 0s 4ms/step - loss: 0.2260 - accuracy: 0.9574\n",
            "Epoch 52/200\n",
            "10/10 [==============================] - 0s 3ms/step - loss: 0.2176 - accuracy: 0.9574\n",
            "Epoch 53/200\n",
            "10/10 [==============================] - 0s 3ms/step - loss: 0.1969 - accuracy: 0.9787\n",
            "Epoch 54/200\n",
            "10/10 [==============================] - 0s 2ms/step - loss: 0.2143 - accuracy: 0.9574\n",
            "Epoch 55/200\n",
            "10/10 [==============================] - 0s 3ms/step - loss: 0.2063 - accuracy: 0.9149\n",
            "Epoch 56/200\n",
            "10/10 [==============================] - 0s 3ms/step - loss: 0.1399 - accuracy: 0.9787\n",
            "Epoch 57/200\n",
            "10/10 [==============================] - 0s 3ms/step - loss: 0.1323 - accuracy: 0.9787\n",
            "Epoch 58/200\n",
            "10/10 [==============================] - 0s 3ms/step - loss: 0.0769 - accuracy: 1.0000\n",
            "Epoch 59/200\n",
            "10/10 [==============================] - 0s 2ms/step - loss: 0.1359 - accuracy: 0.9362\n",
            "Epoch 60/200\n",
            "10/10 [==============================] - 0s 3ms/step - loss: 0.1653 - accuracy: 0.9362\n",
            "Epoch 61/200\n",
            "10/10 [==============================] - 0s 2ms/step - loss: 0.1508 - accuracy: 0.9787\n",
            "Epoch 62/200\n",
            "10/10 [==============================] - 0s 2ms/step - loss: 0.1853 - accuracy: 0.9149\n",
            "Epoch 63/200\n",
            "10/10 [==============================] - 0s 2ms/step - loss: 0.1657 - accuracy: 0.9787\n",
            "Epoch 64/200\n",
            "10/10 [==============================] - 0s 4ms/step - loss: 0.1643 - accuracy: 0.9574\n",
            "Epoch 65/200\n",
            "10/10 [==============================] - 0s 3ms/step - loss: 0.1658 - accuracy: 0.9574\n",
            "Epoch 66/200\n",
            "10/10 [==============================] - 0s 3ms/step - loss: 0.2034 - accuracy: 0.9574\n",
            "Epoch 67/200\n",
            "10/10 [==============================] - 0s 3ms/step - loss: 0.2244 - accuracy: 0.9362\n",
            "Epoch 68/200\n",
            "10/10 [==============================] - 0s 2ms/step - loss: 0.1602 - accuracy: 0.9362\n",
            "Epoch 69/200\n",
            "10/10 [==============================] - 0s 3ms/step - loss: 0.1651 - accuracy: 0.9362\n",
            "Epoch 70/200\n",
            "10/10 [==============================] - 0s 3ms/step - loss: 0.2148 - accuracy: 0.9362\n",
            "Epoch 71/200\n",
            "10/10 [==============================] - 0s 3ms/step - loss: 0.0982 - accuracy: 0.9787\n",
            "Epoch 72/200\n",
            "10/10 [==============================] - 0s 5ms/step - loss: 0.1352 - accuracy: 0.9574\n",
            "Epoch 73/200\n",
            "10/10 [==============================] - 0s 4ms/step - loss: 0.1196 - accuracy: 0.9574\n",
            "Epoch 74/200\n",
            "10/10 [==============================] - 0s 3ms/step - loss: 0.1186 - accuracy: 0.9574\n",
            "Epoch 75/200\n",
            "10/10 [==============================] - 0s 3ms/step - loss: 0.1647 - accuracy: 0.9362\n",
            "Epoch 76/200\n",
            "10/10 [==============================] - 0s 3ms/step - loss: 0.0771 - accuracy: 0.9574\n",
            "Epoch 77/200\n",
            "10/10 [==============================] - 0s 2ms/step - loss: 0.1345 - accuracy: 0.9574\n",
            "Epoch 78/200\n",
            "10/10 [==============================] - 0s 4ms/step - loss: 0.1476 - accuracy: 0.9787\n",
            "Epoch 79/200\n",
            "10/10 [==============================] - 0s 2ms/step - loss: 0.1475 - accuracy: 0.9362\n",
            "Epoch 80/200\n",
            "10/10 [==============================] - 0s 2ms/step - loss: 0.2022 - accuracy: 0.9149\n",
            "Epoch 81/200\n",
            "10/10 [==============================] - 0s 3ms/step - loss: 0.1098 - accuracy: 0.9787\n",
            "Epoch 82/200\n",
            "10/10 [==============================] - 0s 3ms/step - loss: 0.1592 - accuracy: 0.9362\n",
            "Epoch 83/200\n",
            "10/10 [==============================] - 0s 3ms/step - loss: 0.1656 - accuracy: 0.9574\n",
            "Epoch 84/200\n",
            "10/10 [==============================] - 0s 3ms/step - loss: 0.1625 - accuracy: 0.9574\n",
            "Epoch 85/200\n",
            "10/10 [==============================] - 0s 3ms/step - loss: 0.0859 - accuracy: 0.9574\n",
            "Epoch 86/200\n",
            "10/10 [==============================] - 0s 3ms/step - loss: 0.1651 - accuracy: 0.9362\n",
            "Epoch 87/200\n",
            "10/10 [==============================] - 0s 3ms/step - loss: 0.1385 - accuracy: 0.9787\n",
            "Epoch 88/200\n",
            "10/10 [==============================] - 0s 3ms/step - loss: 0.0983 - accuracy: 0.9787\n",
            "Epoch 89/200\n",
            "10/10 [==============================] - 0s 4ms/step - loss: 0.1200 - accuracy: 0.9574\n",
            "Epoch 90/200\n",
            "10/10 [==============================] - 0s 3ms/step - loss: 0.0887 - accuracy: 0.9787\n",
            "Epoch 91/200\n",
            "10/10 [==============================] - 0s 3ms/step - loss: 0.0958 - accuracy: 0.9787\n",
            "Epoch 92/200\n",
            "10/10 [==============================] - 0s 3ms/step - loss: 0.1271 - accuracy: 0.9362\n",
            "Epoch 93/200\n",
            "10/10 [==============================] - 0s 2ms/step - loss: 0.1909 - accuracy: 0.9574\n",
            "Epoch 94/200\n",
            "10/10 [==============================] - 0s 3ms/step - loss: 0.1477 - accuracy: 0.9574\n",
            "Epoch 95/200\n",
            "10/10 [==============================] - 0s 2ms/step - loss: 0.1409 - accuracy: 0.9362\n",
            "Epoch 96/200\n",
            "10/10 [==============================] - 0s 2ms/step - loss: 0.1009 - accuracy: 0.9787\n",
            "Epoch 97/200\n",
            "10/10 [==============================] - 0s 3ms/step - loss: 0.1132 - accuracy: 0.9574\n",
            "Epoch 98/200\n",
            "10/10 [==============================] - 0s 3ms/step - loss: 0.0960 - accuracy: 0.9574\n",
            "Epoch 99/200\n",
            "10/10 [==============================] - 0s 3ms/step - loss: 0.1099 - accuracy: 0.9574\n",
            "Epoch 100/200\n",
            "10/10 [==============================] - 0s 2ms/step - loss: 0.1118 - accuracy: 0.9787\n",
            "Epoch 101/200\n",
            "10/10 [==============================] - 0s 3ms/step - loss: 0.1153 - accuracy: 0.9574\n",
            "Epoch 102/200\n",
            "10/10 [==============================] - 0s 2ms/step - loss: 0.1331 - accuracy: 0.9574\n",
            "Epoch 103/200\n",
            "10/10 [==============================] - 0s 2ms/step - loss: 0.0786 - accuracy: 0.9787\n",
            "Epoch 104/200\n",
            "10/10 [==============================] - 0s 2ms/step - loss: 0.0801 - accuracy: 0.9787\n",
            "Epoch 105/200\n",
            "10/10 [==============================] - 0s 3ms/step - loss: 0.1191 - accuracy: 0.9574\n",
            "Epoch 106/200\n",
            "10/10 [==============================] - 0s 3ms/step - loss: 0.1237 - accuracy: 0.9787\n",
            "Epoch 107/200\n",
            "10/10 [==============================] - 0s 3ms/step - loss: 0.1342 - accuracy: 0.9362\n",
            "Epoch 108/200\n",
            "10/10 [==============================] - 0s 2ms/step - loss: 0.1711 - accuracy: 0.9362\n",
            "Epoch 109/200\n",
            "10/10 [==============================] - 0s 4ms/step - loss: 0.1765 - accuracy: 0.9362\n",
            "Epoch 110/200\n",
            "10/10 [==============================] - 0s 3ms/step - loss: 0.1137 - accuracy: 0.9574\n",
            "Epoch 111/200\n",
            "10/10 [==============================] - 0s 2ms/step - loss: 0.0804 - accuracy: 0.9574\n",
            "Epoch 112/200\n",
            "10/10 [==============================] - 0s 4ms/step - loss: 0.1207 - accuracy: 0.9787\n",
            "Epoch 113/200\n",
            "10/10 [==============================] - 0s 2ms/step - loss: 0.0989 - accuracy: 0.9574\n",
            "Epoch 114/200\n",
            "10/10 [==============================] - 0s 2ms/step - loss: 0.0932 - accuracy: 0.9574\n",
            "Epoch 115/200\n",
            "10/10 [==============================] - 0s 3ms/step - loss: 0.1180 - accuracy: 0.9574\n",
            "Epoch 116/200\n",
            "10/10 [==============================] - 0s 3ms/step - loss: 0.1414 - accuracy: 0.9574\n",
            "Epoch 117/200\n",
            "10/10 [==============================] - 0s 2ms/step - loss: 0.0797 - accuracy: 0.9574\n",
            "Epoch 118/200\n",
            "10/10 [==============================] - 0s 2ms/step - loss: 0.0793 - accuracy: 0.9787\n",
            "Epoch 119/200\n",
            "10/10 [==============================] - 0s 3ms/step - loss: 0.1226 - accuracy: 0.9574\n",
            "Epoch 120/200\n",
            "10/10 [==============================] - 0s 3ms/step - loss: 0.1026 - accuracy: 0.9787\n",
            "Epoch 121/200\n",
            "10/10 [==============================] - 0s 2ms/step - loss: 0.0677 - accuracy: 0.9787\n",
            "Epoch 122/200\n",
            "10/10 [==============================] - 0s 2ms/step - loss: 0.1433 - accuracy: 0.9574\n",
            "Epoch 123/200\n",
            "10/10 [==============================] - 0s 2ms/step - loss: 0.0884 - accuracy: 0.9574\n",
            "Epoch 124/200\n",
            "10/10 [==============================] - 0s 3ms/step - loss: 0.1056 - accuracy: 0.9574\n",
            "Epoch 125/200\n",
            "10/10 [==============================] - 0s 3ms/step - loss: 0.1071 - accuracy: 0.9574\n",
            "Epoch 126/200\n",
            "10/10 [==============================] - 0s 2ms/step - loss: 0.0967 - accuracy: 0.9787\n",
            "Epoch 127/200\n",
            "10/10 [==============================] - 0s 3ms/step - loss: 0.0568 - accuracy: 0.9787\n",
            "Epoch 128/200\n",
            "10/10 [==============================] - 0s 3ms/step - loss: 0.0936 - accuracy: 0.9787\n",
            "Epoch 129/200\n",
            "10/10 [==============================] - 0s 3ms/step - loss: 0.1016 - accuracy: 0.9574\n",
            "Epoch 130/200\n",
            "10/10 [==============================] - 0s 3ms/step - loss: 0.0595 - accuracy: 0.9787\n",
            "Epoch 131/200\n",
            "10/10 [==============================] - 0s 2ms/step - loss: 0.1376 - accuracy: 0.9574\n",
            "Epoch 132/200\n",
            "10/10 [==============================] - 0s 3ms/step - loss: 0.1012 - accuracy: 0.9787\n",
            "Epoch 133/200\n",
            "10/10 [==============================] - 0s 3ms/step - loss: 0.0708 - accuracy: 0.9787\n",
            "Epoch 134/200\n",
            "10/10 [==============================] - 0s 4ms/step - loss: 0.0599 - accuracy: 0.9787\n",
            "Epoch 135/200\n",
            "10/10 [==============================] - 0s 3ms/step - loss: 0.0999 - accuracy: 0.9787\n",
            "Epoch 136/200\n",
            "10/10 [==============================] - 0s 2ms/step - loss: 0.0751 - accuracy: 0.9787\n",
            "Epoch 137/200\n",
            "10/10 [==============================] - 0s 3ms/step - loss: 0.0727 - accuracy: 0.9787\n",
            "Epoch 138/200\n",
            "10/10 [==============================] - 0s 3ms/step - loss: 0.1037 - accuracy: 0.9787\n",
            "Epoch 139/200\n",
            "10/10 [==============================] - 0s 3ms/step - loss: 0.0810 - accuracy: 0.9574\n",
            "Epoch 140/200\n",
            "10/10 [==============================] - 0s 3ms/step - loss: 0.1571 - accuracy: 0.9362\n",
            "Epoch 141/200\n",
            "10/10 [==============================] - 0s 3ms/step - loss: 0.1000 - accuracy: 0.9574\n",
            "Epoch 142/200\n",
            "10/10 [==============================] - 0s 2ms/step - loss: 0.0803 - accuracy: 0.9787\n",
            "Epoch 143/200\n",
            "10/10 [==============================] - 0s 3ms/step - loss: 0.1327 - accuracy: 0.9362\n",
            "Epoch 144/200\n",
            "10/10 [==============================] - 0s 2ms/step - loss: 0.1173 - accuracy: 0.9362\n",
            "Epoch 145/200\n",
            "10/10 [==============================] - 0s 3ms/step - loss: 0.1243 - accuracy: 0.9574\n",
            "Epoch 146/200\n",
            "10/10 [==============================] - 0s 3ms/step - loss: 0.1169 - accuracy: 0.9787\n",
            "Epoch 147/200\n",
            "10/10 [==============================] - 0s 3ms/step - loss: 0.0919 - accuracy: 0.9787\n",
            "Epoch 148/200\n",
            "10/10 [==============================] - 0s 3ms/step - loss: 0.0909 - accuracy: 0.9787\n",
            "Epoch 149/200\n",
            "10/10 [==============================] - 0s 4ms/step - loss: 0.0918 - accuracy: 0.9787\n",
            "Epoch 150/200\n",
            "10/10 [==============================] - 0s 3ms/step - loss: 0.0731 - accuracy: 0.9787\n",
            "Epoch 151/200\n",
            "10/10 [==============================] - 0s 2ms/step - loss: 0.0640 - accuracy: 0.9787\n",
            "Epoch 152/200\n",
            "10/10 [==============================] - 0s 2ms/step - loss: 0.1014 - accuracy: 0.9574\n",
            "Epoch 153/200\n",
            "10/10 [==============================] - 0s 3ms/step - loss: 0.0516 - accuracy: 0.9787\n",
            "Epoch 154/200\n",
            "10/10 [==============================] - 0s 3ms/step - loss: 0.1036 - accuracy: 0.9787\n",
            "Epoch 155/200\n",
            "10/10 [==============================] - 0s 3ms/step - loss: 0.0934 - accuracy: 0.9787\n",
            "Epoch 156/200\n",
            "10/10 [==============================] - 0s 3ms/step - loss: 0.1208 - accuracy: 0.9787\n",
            "Epoch 157/200\n",
            "10/10 [==============================] - 0s 3ms/step - loss: 0.0828 - accuracy: 0.9787\n",
            "Epoch 158/200\n",
            "10/10 [==============================] - 0s 3ms/step - loss: 0.0633 - accuracy: 0.9787\n",
            "Epoch 159/200\n",
            "10/10 [==============================] - 0s 2ms/step - loss: 0.0837 - accuracy: 0.9574\n",
            "Epoch 160/200\n",
            "10/10 [==============================] - 0s 2ms/step - loss: 0.1101 - accuracy: 0.9787\n",
            "Epoch 161/200\n",
            "10/10 [==============================] - 0s 4ms/step - loss: 0.0612 - accuracy: 0.9574\n",
            "Epoch 162/200\n",
            "10/10 [==============================] - 0s 3ms/step - loss: 0.0819 - accuracy: 0.9787\n",
            "Epoch 163/200\n",
            "10/10 [==============================] - 0s 4ms/step - loss: 0.1932 - accuracy: 0.9362\n",
            "Epoch 164/200\n",
            "10/10 [==============================] - 0s 4ms/step - loss: 0.1762 - accuracy: 0.9574\n",
            "Epoch 165/200\n",
            "10/10 [==============================] - 0s 4ms/step - loss: 0.1214 - accuracy: 0.9574\n",
            "Epoch 166/200\n",
            "10/10 [==============================] - 0s 3ms/step - loss: 0.1270 - accuracy: 0.9574\n",
            "Epoch 167/200\n",
            "10/10 [==============================] - 0s 3ms/step - loss: 0.0918 - accuracy: 0.9574\n",
            "Epoch 168/200\n",
            "10/10 [==============================] - 0s 3ms/step - loss: 0.1501 - accuracy: 0.9574\n",
            "Epoch 169/200\n",
            "10/10 [==============================] - 0s 2ms/step - loss: 0.0727 - accuracy: 0.9787\n",
            "Epoch 170/200\n",
            "10/10 [==============================] - 0s 3ms/step - loss: 0.0517 - accuracy: 0.9787\n",
            "Epoch 171/200\n",
            "10/10 [==============================] - 0s 3ms/step - loss: 0.0908 - accuracy: 0.9787\n",
            "Epoch 172/200\n",
            "10/10 [==============================] - 0s 3ms/step - loss: 0.1128 - accuracy: 0.9787\n",
            "Epoch 173/200\n",
            "10/10 [==============================] - 0s 4ms/step - loss: 0.1129 - accuracy: 0.9574\n",
            "Epoch 174/200\n",
            "10/10 [==============================] - 0s 3ms/step - loss: 0.1313 - accuracy: 0.9574\n",
            "Epoch 175/200\n",
            "10/10 [==============================] - 0s 3ms/step - loss: 0.1194 - accuracy: 0.9787\n",
            "Epoch 176/200\n",
            "10/10 [==============================] - 0s 2ms/step - loss: 0.1013 - accuracy: 0.9362\n",
            "Epoch 177/200\n",
            "10/10 [==============================] - 0s 3ms/step - loss: 0.0710 - accuracy: 0.9787\n",
            "Epoch 178/200\n",
            "10/10 [==============================] - 0s 3ms/step - loss: 0.0768 - accuracy: 0.9787\n",
            "Epoch 179/200\n",
            "10/10 [==============================] - 0s 3ms/step - loss: 0.0590 - accuracy: 0.9787\n",
            "Epoch 180/200\n",
            "10/10 [==============================] - 0s 3ms/step - loss: 0.1001 - accuracy: 0.9787\n",
            "Epoch 181/200\n",
            "10/10 [==============================] - 0s 3ms/step - loss: 0.0674 - accuracy: 0.9787\n",
            "Epoch 182/200\n",
            "10/10 [==============================] - 0s 3ms/step - loss: 0.1103 - accuracy: 0.9787\n",
            "Epoch 183/200\n",
            "10/10 [==============================] - 0s 3ms/step - loss: 0.0825 - accuracy: 0.9787\n",
            "Epoch 184/200\n",
            "10/10 [==============================] - 0s 2ms/step - loss: 0.0775 - accuracy: 0.9787\n",
            "Epoch 185/200\n",
            "10/10 [==============================] - 0s 3ms/step - loss: 0.1009 - accuracy: 0.9787\n",
            "Epoch 186/200\n",
            "10/10 [==============================] - 0s 3ms/step - loss: 0.1141 - accuracy: 0.9574\n",
            "Epoch 187/200\n",
            "10/10 [==============================] - 0s 4ms/step - loss: 0.0586 - accuracy: 0.9787\n",
            "Epoch 188/200\n",
            "10/10 [==============================] - 0s 3ms/step - loss: 0.0614 - accuracy: 0.9787\n",
            "Epoch 189/200\n",
            "10/10 [==============================] - 0s 2ms/step - loss: 0.0912 - accuracy: 0.9787\n",
            "Epoch 190/200\n",
            "10/10 [==============================] - 0s 3ms/step - loss: 0.1052 - accuracy: 0.9787\n",
            "Epoch 191/200\n",
            "10/10 [==============================] - 0s 3ms/step - loss: 0.1079 - accuracy: 0.9574\n",
            "Epoch 192/200\n",
            "10/10 [==============================] - 0s 2ms/step - loss: 0.0958 - accuracy: 0.9574\n",
            "Epoch 193/200\n",
            "10/10 [==============================] - 0s 3ms/step - loss: 0.1075 - accuracy: 0.9574\n",
            "Epoch 194/200\n",
            "10/10 [==============================] - 0s 3ms/step - loss: 0.1095 - accuracy: 0.9574\n",
            "Epoch 195/200\n",
            "10/10 [==============================] - 0s 2ms/step - loss: 0.0802 - accuracy: 0.9787\n",
            "Epoch 196/200\n",
            "10/10 [==============================] - 0s 3ms/step - loss: 0.0853 - accuracy: 0.9787\n",
            "Epoch 197/200\n",
            "10/10 [==============================] - 0s 2ms/step - loss: 0.0607 - accuracy: 0.9787\n",
            "Epoch 198/200\n",
            "10/10 [==============================] - 0s 2ms/step - loss: 0.0980 - accuracy: 0.9574\n",
            "Epoch 199/200\n",
            "10/10 [==============================] - 0s 3ms/step - loss: 0.0632 - accuracy: 0.9574\n",
            "Epoch 200/200\n",
            "10/10 [==============================] - 0s 3ms/step - loss: 0.0799 - accuracy: 0.9787\n"
          ]
        }
      ]
    },
    {
      "cell_type": "code",
      "source": [
        "# Save the model for use ahead\n",
        "# No changes here\n",
        "\n",
        "model.save(\"chatbotmodel.h5\", hist)\n",
        "  \n",
        "# Print a message for the successful training of the Chatbot model\n",
        "print(\"Model saved!\")"
      ],
      "metadata": {
        "colab": {
          "base_uri": "https://localhost:8080/"
        },
        "id": "sVZRlKm59JTa",
        "outputId": "0974b027-6d62-40bc-83f6-248f8862af6e"
      },
      "execution_count": 25,
      "outputs": [
        {
          "output_type": "stream",
          "name": "stdout",
          "text": [
            "Model saved!\n"
          ]
        }
      ]
    },
    {
      "cell_type": "markdown",
      "source": [
        "# And finally, we execute the Chatbot Model"
      ],
      "metadata": {
        "id": "eQH3UWAQDVWJ"
      }
    },
    {
      "cell_type": "code",
      "source": [
        "# No change\n",
        "\n",
        "from keras.models import load_model"
      ],
      "metadata": {
        "id": "K308ezKM-lqN"
      },
      "execution_count": 26,
      "outputs": []
    },
    {
      "cell_type": "code",
      "source": [
        "# Load the files we made previously - \n",
        "# load 'intense.json' into variable 'intents'\n",
        "# load 'words.pk1' into variable 'words'\n",
        "# load 'classes.pk1' into variable 'classes'\n",
        "# load 'chatbotmodel.h5' into variable 'model'\n"
      ],
      "metadata": {
        "id": "DYuwIY3T4vFv"
      },
      "execution_count": 27,
      "outputs": []
    },
    {
      "cell_type": "code",
      "source": [
        "# Create a function 'clean_up_sentences(sentence)' to separate words from the input sentences (this is called tokenisation). \n",
        "# Use nltk.word_tokenize(sentence) and return the words of the sentence after lemmatization\n",
        "\n",
        "# your code here\n",
        "\n"
      ],
      "metadata": {
        "id": "B37naI9G4wwq"
      },
      "execution_count": 28,
      "outputs": []
    },
    {
      "cell_type": "code",
      "source": [
        "# Create a function 'bagw(sentence)' to  append 1 to a list variable ‘bag’ if the word is contained inside our input and is also present in the list of words created earlier.\n",
        "# Return a numpy array of the list variable bag that now contains 1’s and 0’s.\n",
        "\n",
        "def bagw(sentence):\n",
        "    \n",
        "    # Separate out words from the input sentence\n",
        "    sentence_words = clean_up_sentences(sentence)\n",
        "    bag = [0]*len(words)\n",
        "    for w in sentence_words:\n",
        "        for i, word in enumerate(words):\n",
        "  \n",
        "            # check whether the word\n",
        "            # is present in the input as well\n",
        "            \n",
        "            #your code here\n",
        "\n",
        "            \n",
        "            \n",
        "    # return a numpy array\n",
        "    return np.array(bag)"
      ],
      "metadata": {
        "id": "XhJns4tr4y44"
      },
      "execution_count": 29,
      "outputs": []
    },
    {
      "cell_type": "code",
      "source": [
        "# Create a function 'predict_class(sentence)' to predict the class of the sentence input by the user.\n",
        "\n",
        "def predict_class(sentence):\n",
        "  # Initialize a variable 'bow' that will contain a NumPy array of 0’s and 1’s, using the bag(w) function defined above\n",
        "  # Your line of code here \n",
        "    \n",
        "    res = model.predict(np.array([bow]))[0]\n",
        "\n",
        "    # In variable 'results', append from ‘res’ if the value is greater than the ERROR_THRESHOLD, then sort it using the sort function. \n",
        "    # No change\n",
        "    ERROR_THRESHOLD = 0.25\n",
        "    results = [[i, r] for i, r in enumerate(res) \n",
        "               if r > ERROR_THRESHOLD]\n",
        "    results.sort(key=lambda x: x[1], reverse=True)\n",
        "    return_list = []\n",
        "    for r in results:\n",
        "        return_list.append({'intent': classes[r[0]],\n",
        "                            'probability': str(r[1])})\n",
        "        return return_list"
      ],
      "metadata": {
        "id": "vmMykTgU5Bcj"
      },
      "execution_count": 30,
      "outputs": []
    },
    {
      "cell_type": "code",
      "source": [
        "# Create 'get_response(intents_list, intents_json)' to generate a random response from whichever class the sentence/words input by the user belongs to.\n",
        "\n",
        "def get_response(intents_list, intents_json):\n",
        "    tag = intents_list[0]['intent']\n",
        "    list_of_intents = intents_json['intents']\n",
        "    result = \"\"\n",
        "    for i in list_of_intents:\n",
        "    # If the tag matches the tag in list_of_intents, store a random response from the 'intense.json' file in a variable called 'result'\n",
        "    # your code here\n",
        "        \n",
        "\n",
        "        \n",
        "    return result\n",
        "  \n",
        "print(\"Chatbot is up!\")"
      ],
      "metadata": {
        "colab": {
          "base_uri": "https://localhost:8080/"
        },
        "id": "H3pZt1HP5N16",
        "outputId": "3d15058d-b2ff-49b4-8c87-772e734352ea"
      },
      "execution_count": 32,
      "outputs": [
        {
          "output_type": "stream",
          "name": "stdout",
          "text": [
            "Chatbot is up!\n"
          ]
        }
      ]
    },
    {
      "cell_type": "markdown",
      "source": [
        "# And our Chatbot is ready! Time to get it into action"
      ],
      "metadata": {
        "id": "SuM0e3TM5Q2-"
      }
    },
    {
      "cell_type": "code",
      "source": [
        "# Create an infinite loop to keep the model running.\n",
        "# No edits here\n",
        "\n",
        "while True:\n",
        "    message = input(\"\")\n",
        "    ints = predict_class(message)\n",
        "    print(ints)\n",
        "    res = get_response(ints, intents)\n",
        "    print(res)\n",
        "    # Write a couple of lines of code to stop the infinite loop if the intent of the message is 'goodbye'\n",
        "    "
      ],
      "metadata": {
        "colab": {
          "base_uri": "https://localhost:8080/"
        },
        "id": "hTQMUoPs5R3i",
        "outputId": "f04ca5dc-a13f-4408-9c73-1dc845af9fa7"
      },
      "execution_count": 44,
      "outputs": [
        {
          "output_type": "stream",
          "name": "stdout",
          "text": [
            "hi\n",
            "1/1 [==============================] - 0s 17ms/step\n",
            "[{'intent': 'greeting', 'probability': '0.83251077'}]\n",
            "Good to see you again\n",
            "bye\n",
            "1/1 [==============================] - 0s 25ms/step\n",
            "[{'intent': 'goodbye', 'probability': '0.99931'}]\n",
            "Bye! Come back again soon.\n"
          ]
        }
      ]
    }
  ]
}